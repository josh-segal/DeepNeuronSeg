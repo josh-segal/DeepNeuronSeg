{
 "cells": [
  {
   "cell_type": "code",
   "execution_count": 2,
   "metadata": {},
   "outputs": [],
   "source": [
    "import numpy as np\n",
    "import cv2\n",
    "from PIL import Image\n",
    "import torch\n",
    "import matplotlib.pyplot as plt"
   ]
  },
  {
   "cell_type": "code",
   "execution_count": 5,
   "metadata": {},
   "outputs": [],
   "source": [
    "\n",
    "def segment(image_path, input_points):\n",
    "    # Load when used not on startup\n",
    "    from transformers import SamModel, SamProcessor\n",
    "\n",
    "    model = SamModel.from_pretrained(\"facebook/sam-vit-base\")\n",
    "    processor = SamProcessor.from_pretrained(\"facebook/sam-vit-base\")\n",
    "\n",
    "    raw_image = Image.open(image_path)\n",
    "    input_points_nested = [[[[coord[0], coord[1]]] for coord in input_points]]\n",
    "    inputs = processor(raw_image, input_points=input_points_nested, return_tensors=\"pt\")\n",
    "    outputs = model(**inputs)\n",
    "\n",
    "    masks = processor.image_processor.post_process_masks(\n",
    "        outputs.pred_masks,\n",
    "        inputs[\"original_sizes\"],\n",
    "        inputs[\"reshaped_input_sizes\"],\n",
    "        return_tensors=\"pt\",\n",
    "    )\n",
    "    scores = outputs.iou_scores\n",
    "\n",
    "    return masks, scores\n",
    "\n",
    "def composite_mask(masks):\n",
    "    num_masks = masks[0].shape[0]\n",
    "    final_image = np.zeros(masks[0][0][0].shape)\n",
    "    instances_list = []\n",
    "\n",
    "    for i in range(num_masks):\n",
    "        mask_np = np.array(masks[0][i][2], dtype=np.uint8)\n",
    "\n",
    "        final_image += mask_np\n",
    "\n",
    "        seg = mask_to_polygons(mask_np)\n",
    "        bbox = mask_to_bboxes(mask_np)\n",
    "        \n",
    "        instance_dict = {}\n",
    "        instance_dict['segmentation'] = seg\n",
    "        instance_dict['bbox'] = bbox\n",
    "\n",
    "        instances_list.append(instance_dict)\n",
    "\n",
    "    final_image = np.where(final_image > 1, 1, final_image)\n",
    "\n",
    "    return final_image, num_masks, instances_list\n",
    "\n",
    "def mask_to_polygons(mask):\n",
    "    contours, _ = cv2.findContours(mask, cv2.RETR_TREE, cv2.CHAIN_APPROX_SIMPLE)\n",
    "    polygons = []\n",
    "    for contour in contours:\n",
    "        if len(contour) > 2:\n",
    "            poly = contour.reshape(-1).tolist()\n",
    "            polygons.append(poly)\n",
    "    return polygons[0]\n",
    "\n",
    "def mask_to_bboxes(mask):\n",
    "    contours, _ = cv2.findContours(mask, cv2.RETR_TREE, cv2.CHAIN_APPROX_SIMPLE)\n",
    "    bboxes = []\n",
    "    for contour in contours:\n",
    "        if len(contour) > 2:\n",
    "            x, y, w, h = cv2.boundingRect(contour)\n",
    "            bboxes.append([x, y, x + w, y + h])\n",
    "    return bboxes[0]"
   ]
  },
  {
   "cell_type": "code",
   "execution_count": 6,
   "metadata": {},
   "outputs": [],
   "source": [
    "input_points = [(284, 443), (271, 389), (268, 340), (268, 340)]\n",
    "# input_points_nested = [[[[coord[0], coord[1]]] for coord in input_points]]\n",
    "# points_tensor = torch.tensor(input_points_nested)\n",
    "# points_tensor.shape\n",
    "# reshape_tensor = points_tensor.reshape(1, 1, 4, 2)\n",
    "# reshape_tensor.shape"
   ]
  },
  {
   "cell_type": "code",
   "execution_count": 7,
   "metadata": {},
   "outputs": [],
   "source": [
    "# print(input_points_nested)\n",
    "masks, scores = segment(\"C:/Users/joshua/garnercode/cellCountingModel/notebooks/yolobooks/dataset/inference_dump/C1_PPN1/D_Amp1_PPN1.png\", input_points)"
   ]
  },
  {
   "cell_type": "code",
   "execution_count": 8,
   "metadata": {},
   "outputs": [],
   "source": [
    "final_image, num_masks, instances_list = composite_mask(masks)"
   ]
  },
  {
   "cell_type": "code",
   "execution_count": 9,
   "metadata": {},
   "outputs": [
    {
     "name": "stdout",
     "output_type": "stream",
     "text": [
      "[]\n"
     ]
    }
   ],
   "source": [
    "indices_above_one = np.argwhere(final_image > 1)\n",
    "print(indices_above_one)"
   ]
  },
  {
   "cell_type": "code",
   "execution_count": 10,
   "metadata": {},
   "outputs": [],
   "source": [
    "final_image_pil = Image.fromarray((final_image * 255).astype(np.uint8))\n",
    "final_image_pil.save('final_image.png')"
   ]
  },
  {
   "cell_type": "code",
   "execution_count": 14,
   "metadata": {},
   "outputs": [
    {
     "data": {
      "image/png": "[encoded data removed]",
      "text/plain": [
       "<Figure size 640x480 with 1 Axes>"
      ]
     },
     "metadata": {},
     "output_type": "display_data"
    }
   ],
   "source": [
    "plt.imshow(final_image, cmap='gray')\n",
    "plt.axis('off')\n",
    "plt.tight_layout()\n",
    "plt.show()"
   ]
  }
 ],
 "metadata": {
  "kernelspec": {
   "display_name": "Python 3",
   "language": "python",
   "name": "python3"
  },
  "language_info": {
   "codemirror_mode": {
    "name": "ipython",
    "version": 3
   },
   "file_extension": ".py",
   "mimetype": "text/x-python",
   "name": "python",
   "nbconvert_exporter": "python",
   "pygments_lexer": "ipython3",
   "version": "3.12.7"
  }
 },
 "nbformat": 4,
 "nbformat_minor": 2
}
